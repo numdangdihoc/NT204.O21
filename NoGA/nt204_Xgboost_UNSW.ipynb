{
  "nbformat": 4,
  "nbformat_minor": 0,
  "metadata": {
    "colab": {
      "provenance": []
    },
    "kernelspec": {
      "name": "python3",
      "display_name": "Python 3"
    },
    "language_info": {
      "name": "python"
    }
  },
  "cells": [
    {
      "cell_type": "code",
      "execution_count": null,
      "metadata": {
        "id": "FShS5QOoKjaA"
      },
      "outputs": [],
      "source": [
        "import matplotlib.pyplot as plt\n",
        "import numpy as np\n",
        "import gdown\n",
        "import pandas as pd\n",
        "from sklearn.model_selection import cross_val_score, KFold\n",
        "from sklearn.preprocessing import LabelEncoder, MinMaxScaler\n",
        "from sklearn.metrics import classification_report\n",
        "import warnings\n",
        "import zipfile\n",
        "from xgboost import XGBClassifier\n",
        "import chardet\n",
        "from tabulate import tabulate\n",
        "import plotly.io\n",
        "import plotly.graph_objects as go\n",
        "\n",
        "# Ignore all warnings\n",
        "warnings.filterwarnings(\"ignore\")\n"
      ]
    },
    {
      "cell_type": "code",
      "source": [
        "# Download dataset\n",
        "url = 'https://drive.google.com/uc?id=1iUC1Pv-1JfYWUKMGZQ2xSOk0nYAM2f6i'\n",
        "output = 'UNSW_NB15.zip'\n",
        "gdown.download(url, output, quiet=False)\n",
        "\n",
        "# Unzip dataset\n",
        "with zipfile.ZipFile('UNSW_NB15.zip', 'r') as zip_ref:\n",
        "    zip_ref.extractall()\n"
      ],
      "metadata": {
        "colab": {
          "base_uri": "https://localhost:8080/"
        },
        "id": "SHzlq13sLA9l",
        "outputId": "b0bc0f34-9a20-4691-9f2e-bf8a842103ef"
      },
      "execution_count": null,
      "outputs": [
        {
          "output_type": "stream",
          "name": "stderr",
          "text": [
            "Downloading...\n",
            "From (original): https://drive.google.com/uc?id=1iUC1Pv-1JfYWUKMGZQ2xSOk0nYAM2f6i\n",
            "From (redirected): https://drive.google.com/uc?id=1iUC1Pv-1JfYWUKMGZQ2xSOk0nYAM2f6i&confirm=t&uuid=fcf5d761-fedf-40c8-be5e-2b3fb6a0d74b\n",
            "To: /content/UNSW_NB15.zip\n",
            "100%|██████████| 156M/156M [00:06<00:00, 22.9MB/s]\n"
          ]
        }
      ]
    },
    {
      "cell_type": "code",
      "source": [
        "## Load dataset for learning\n",
        "# Encode problem\n",
        "import chardet\n",
        "with open('NUSW-NB15_features.csv', 'rb') as f:\n",
        "    encoding = chardet.detect(f.read())['encoding']\n",
        "\n",
        "# Get feature\n",
        "cols = list(pd.read_csv('NUSW-NB15_features.csv', encoding=encoding)['Name'])\n",
        "\n",
        "file_paths = ['UNSW-NB15_1.csv','UNSW-NB15_2.csv','UNSW-NB15_3.csv','UNSW-NB15_4.csv']\n",
        "\n",
        "# Read each CSV file into separate DataFrames\n",
        "dfs = [pd.read_csv(file, names=cols) for file in file_paths]\n",
        "\n",
        "# Concatenate the DataFrames into a single DataFrame\n",
        "data = pd.concat(dfs, ignore_index=True)\n",
        "data['attack_cat'] = data['attack_cat'].str.strip().str.replace('Backdoors', 'Backdoor')\n",
        "data['attack_cat'] = data['attack_cat'].fillna(value='Normal')\n",
        "data = data.drop_duplicates(ignore_index=True)\n",
        "data = data.fillna(0)"
      ],
      "metadata": {
        "id": "MdtO6XDuLCau"
      },
      "execution_count": null,
      "outputs": []
    },
    {
      "cell_type": "code",
      "source": [
        "def balance_class(df, cls_col, cls, cls_size):\n",
        "    resampled_dfs = [df[df[cls_col] != cls]]\n",
        "    cls_df = df[df[cls_col] == cls]\n",
        "    current_class_size = len(cls_df)\n",
        "\n",
        "    if current_class_size > cls_size:\n",
        "        # Undersample: Reduce the number of samples\n",
        "        cls_df_resampled = cls_df.sample(cls_size, random_state=42)\n",
        "    elif current_class_size < cls_size:\n",
        "        # Oversample: Increase the number of samples\n",
        "        cls_df_resampled = cls_df.sample(cls_size, replace=True, random_state=42)\n",
        "    else:\n",
        "        cls_df_resampled = cls_df\n",
        "\n",
        "    resampled_dfs.append(cls_df_resampled)\n",
        "\n",
        "    return pd.concat(resampled_dfs).reset_index(drop=True)\n",
        "\n",
        "data = balance_class(data, 'attack_cat', 'Analysis', 677)\n",
        "data = balance_class(data, 'attack_cat', 'Backdoor', 577)\n",
        "data = balance_class(data, 'attack_cat', 'DoS', 4089)\n",
        "data = balance_class(data, 'attack_cat', 'Exploits', 7061)\n",
        "data = balance_class(data, 'attack_cat', 'Fuzzers', 12062)\n",
        "data = balance_class(data, 'attack_cat', 'Generic', 5016)\n",
        "data = balance_class(data, 'attack_cat', 'Normal', 31395)\n",
        "data = balance_class(data, 'attack_cat', 'Reconnaissance', 1695)\n",
        "data = balance_class(data, 'attack_cat', 'Shellcode', 378)\n",
        "data = balance_class(data, 'attack_cat', 'Worms', 44)\n"
      ],
      "metadata": {
        "id": "oIOdte1rLD4k"
      },
      "execution_count": null,
      "outputs": []
    },
    {
      "cell_type": "code",
      "source": [
        "print('Number of train features: ',X.shape[1])"
      ],
      "metadata": {
        "colab": {
          "base_uri": "https://localhost:8080/"
        },
        "id": "_j5zqiddYHqF",
        "outputId": "ab9f92b7-cf18-46e1-aeb1-346f44b0a0c4"
      },
      "execution_count": null,
      "outputs": [
        {
          "output_type": "stream",
          "name": "stdout",
          "text": [
            "Number of train features:  47\n"
          ]
        }
      ]
    },
    {
      "cell_type": "code",
      "source": [
        "# Record per class\n",
        "print('Record per class:\\n',data.groupby('attack_cat').size())\n",
        "print('\\nSum:\\t\\t',data['attack_cat'].size)"
      ],
      "metadata": {
        "colab": {
          "base_uri": "https://localhost:8080/"
        },
        "id": "O2pyJLBbdB2F",
        "outputId": "7442a75d-da4f-44e3-d524-5a4c663ed2fc"
      },
      "execution_count": null,
      "outputs": [
        {
          "output_type": "stream",
          "name": "stdout",
          "text": [
            "Record per class:\n",
            " attack_cat\n",
            "Analysis            677\n",
            "Backdoor            577\n",
            "DoS                4089\n",
            "Exploits           7061\n",
            "Fuzzers           12062\n",
            "Generic            5016\n",
            "Normal            31395\n",
            "Reconnaissance     1695\n",
            "Shellcode           378\n",
            "Worms                44\n",
            "dtype: int64\n",
            "\n",
            "Sum:\t\t 62994\n"
          ]
        }
      ]
    },
    {
      "cell_type": "code",
      "source": [
        "labels = data['attack_cat'].unique()\n",
        "label_encoders = {}\n",
        "for column in data.select_dtypes(include=['object']).columns:\n",
        "    label_encoders[column] = LabelEncoder()\n",
        "    data[column] = data[column].astype(str)\n",
        "    data[column] = label_encoders[column].fit_transform(data[column])\n",
        "\n",
        "X = data.drop(['attack_cat', 'Label'], axis=1)\n",
        "y = data['attack_cat']"
      ],
      "metadata": {
        "id": "aDWlLyI7LFl8"
      },
      "execution_count": null,
      "outputs": []
    },
    {
      "cell_type": "code",
      "source": [
        "# Scaling and standardize\n",
        "scaler = MinMaxScaler()\n",
        "X = pd.DataFrame(scaler.fit_transform(X), columns=X.columns)\n"
      ],
      "metadata": {
        "id": "ISZhraifLHxU"
      },
      "execution_count": null,
      "outputs": []
    },
    {
      "cell_type": "code",
      "source": [
        "# Thiết lập các tham số cho XGBoost\n",
        "xgb_params = {\n",
        "    'max_depth': 5,           # Độ sâu tối đa của các cây quyết định\n",
        "    'learning_rate': 0.1,     # Tốc độ học của mô hình\n",
        "    'n_estimators': 20,       # Số lượng cây trong mô hình\n",
        "    'objective': 'multi:softmax'  # Mục tiêu: dùng cho bài toán phân loại đa lớp\n",
        "}\n",
        "\n",
        "# Khởi tạo mô hình XGBoost với các tham số được thiết lập\n",
        "clf = XGBClassifier(**xgb_params)\n",
        "\n",
        "kf = KFold(shuffle=True)\n",
        "Y_test = []\n",
        "Y_pred = []\n",
        "\n",
        "for train_index, test_index in kf.split(X):\n",
        "    X_train, X_test = X.iloc[train_index], X.iloc[test_index]\n",
        "    y_train, y_test = y.iloc[train_index], y.iloc[test_index]\n",
        "\n",
        "    clf.fit(X_train, y_train)\n",
        "    y_pred = clf.predict(X_test)\n",
        "\n",
        "    Y_test.extend(y_test)\n",
        "    Y_pred.extend(y_pred)\n",
        "\n",
        "report = classification_report(Y_test, Y_pred, output_dict=True)\n",
        "\n",
        "table = [[\"Class\", \"Precision\", \"Recall\", \"F1-Score\", \"Support\"]]\n",
        "for key, value in report.items():\n",
        "    if key != \"accuracy\" and key != \"macro avg\" and key != \"weighted avg\":\n",
        "        table.append([key, value['precision'], value['recall'], value['f1-score'], value['support']])\n",
        "\n",
        "print(tabulate(table, headers=\"firstrow\", tablefmt=\"grid\"))\n",
        "print('\\nAccuracy:', report['accuracy'], '\\tRecall:', report['macro avg']['recall'])\n"
      ],
      "metadata": {
        "colab": {
          "base_uri": "https://localhost:8080/"
        },
        "id": "i1GyWF7SLJc9",
        "outputId": "20315b84-5115-4940-bc20-4ead57b045d2"
      },
      "execution_count": null,
      "outputs": [
        {
          "output_type": "stream",
          "name": "stdout",
          "text": [
            "+---------+-------------+-----------+------------+-----------+\n",
            "|   Class |   Precision |    Recall |   F1-Score |   Support |\n",
            "+=========+=============+===========+============+===========+\n",
            "|       0 |    0.559441 | 0.118168  |   0.195122 |       677 |\n",
            "+---------+-------------+-----------+------------+-----------+\n",
            "|       1 |    0.818182 | 0.0779896 |   0.142405 |       577 |\n",
            "+---------+-------------+-----------+------------+-----------+\n",
            "|       2 |    0.384225 | 0.537295  |   0.448047 |      4089 |\n",
            "+---------+-------------+-----------+------------+-----------+\n",
            "|       3 |    0.715152 | 0.818156  |   0.763194 |      7061 |\n",
            "+---------+-------------+-----------+------------+-----------+\n",
            "|       4 |    0.886575 | 0.907229  |   0.896783 |     12062 |\n",
            "+---------+-------------+-----------+------------+-----------+\n",
            "|       5 |    0.98273  | 0.816786  |   0.892107 |      5016 |\n",
            "+---------+-------------+-----------+------------+-----------+\n",
            "|       6 |    0.999774 | 0.984711  |   0.992185 |     31395 |\n",
            "+---------+-------------+-----------+------------+-----------+\n",
            "|       7 |    0.961265 | 0.717404  |   0.821622 |      1695 |\n",
            "+---------+-------------+-----------+------------+-----------+\n",
            "|       8 |    0.609428 | 0.478836  |   0.536296 |       378 |\n",
            "+---------+-------------+-----------+------------+-----------+\n",
            "|       9 |    0        | 0         |   0        |        44 |\n",
            "+---------+-------------+-----------+------------+-----------+\n",
            "\n",
            "Accuracy: 0.88025843731149 \tRecall: 0.5456575891042328\n"
          ]
        }
      ]
    },
    {
      "cell_type": "code",
      "source": [
        "# Radar chart for full feature classification\n",
        "encoded_labels = list(label_encoders['attack_cat'].classes_)\n",
        "accuracies = [report[str(x)]['precision'] for x in range(len(encoded_labels))]\n",
        "\n",
        "fig = go.Figure(data=go.Scatterpolar(\n",
        "    r=accuracies,\n",
        "    theta=encoded_labels,\n",
        "    fill='toself'\n",
        "))\n",
        "\n",
        "fig.update_layout(\n",
        "    polar=dict(\n",
        "        radialaxis=dict(\n",
        "            visible=True\n",
        "        ),\n",
        "    ),\n",
        "    showlegend=False\n",
        ")\n",
        "\n",
        "fig.show()"
      ],
      "metadata": {
        "colab": {
          "base_uri": "https://localhost:8080/",
          "height": 542
        },
        "id": "Hn4JzRPOLUJF",
        "outputId": "93f744bb-bbd0-45a5-e8e2-d870a8d1c8df"
      },
      "execution_count": null,
      "outputs": [
        {
          "output_type": "display_data",
          "data": {
            "text/html": [
              "<html>\n",
              "<head><meta charset=\"utf-8\" /></head>\n",
              "<body>\n",
              "    <div>            <script src=\"https://cdnjs.cloudflare.com/ajax/libs/mathjax/2.7.5/MathJax.js?config=TeX-AMS-MML_SVG\"></script><script type=\"text/javascript\">if (window.MathJax && window.MathJax.Hub && window.MathJax.Hub.Config) {window.MathJax.Hub.Config({SVG: {font: \"STIX-Web\"}});}</script>                <script type=\"text/javascript\">window.PlotlyConfig = {MathJaxConfig: 'local'};</script>\n",
              "        <script charset=\"utf-8\" src=\"https://cdn.plot.ly/plotly-2.24.1.min.js\"></script>                <div id=\"90512aaa-5d77-470e-9e23-a1baa8ad17bc\" class=\"plotly-graph-div\" style=\"height:525px; width:100%;\"></div>            <script type=\"text/javascript\">                                    window.PLOTLYENV=window.PLOTLYENV || {};                                    if (document.getElementById(\"90512aaa-5d77-470e-9e23-a1baa8ad17bc\")) {                    Plotly.newPlot(                        \"90512aaa-5d77-470e-9e23-a1baa8ad17bc\",                        [{\"fill\":\"toself\",\"r\":[0.5594405594405595,0.8181818181818182,0.3842252535851696,0.7151522654122308,0.8865753868589484,0.9827296713840249,0.9997736239570533,0.9612648221343874,0.6094276094276094,0.0],\"theta\":[\"Analysis\",\"Backdoor\",\"DoS\",\"Exploits\",\"Fuzzers\",\"Generic\",\"Normal\",\"Reconnaissance\",\"Shellcode\",\"Worms\"],\"type\":\"scatterpolar\"}],                        {\"template\":{\"data\":{\"histogram2dcontour\":[{\"type\":\"histogram2dcontour\",\"colorbar\":{\"outlinewidth\":0,\"ticks\":\"\"},\"colorscale\":[[0.0,\"#0d0887\"],[0.1111111111111111,\"#46039f\"],[0.2222222222222222,\"#7201a8\"],[0.3333333333333333,\"#9c179e\"],[0.4444444444444444,\"#bd3786\"],[0.5555555555555556,\"#d8576b\"],[0.6666666666666666,\"#ed7953\"],[0.7777777777777778,\"#fb9f3a\"],[0.8888888888888888,\"#fdca26\"],[1.0,\"#f0f921\"]]}],\"choropleth\":[{\"type\":\"choropleth\",\"colorbar\":{\"outlinewidth\":0,\"ticks\":\"\"}}],\"histogram2d\":[{\"type\":\"histogram2d\",\"colorbar\":{\"outlinewidth\":0,\"ticks\":\"\"},\"colorscale\":[[0.0,\"#0d0887\"],[0.1111111111111111,\"#46039f\"],[0.2222222222222222,\"#7201a8\"],[0.3333333333333333,\"#9c179e\"],[0.4444444444444444,\"#bd3786\"],[0.5555555555555556,\"#d8576b\"],[0.6666666666666666,\"#ed7953\"],[0.7777777777777778,\"#fb9f3a\"],[0.8888888888888888,\"#fdca26\"],[1.0,\"#f0f921\"]]}],\"heatmap\":[{\"type\":\"heatmap\",\"colorbar\":{\"outlinewidth\":0,\"ticks\":\"\"},\"colorscale\":[[0.0,\"#0d0887\"],[0.1111111111111111,\"#46039f\"],[0.2222222222222222,\"#7201a8\"],[0.3333333333333333,\"#9c179e\"],[0.4444444444444444,\"#bd3786\"],[0.5555555555555556,\"#d8576b\"],[0.6666666666666666,\"#ed7953\"],[0.7777777777777778,\"#fb9f3a\"],[0.8888888888888888,\"#fdca26\"],[1.0,\"#f0f921\"]]}],\"heatmapgl\":[{\"type\":\"heatmapgl\",\"colorbar\":{\"outlinewidth\":0,\"ticks\":\"\"},\"colorscale\":[[0.0,\"#0d0887\"],[0.1111111111111111,\"#46039f\"],[0.2222222222222222,\"#7201a8\"],[0.3333333333333333,\"#9c179e\"],[0.4444444444444444,\"#bd3786\"],[0.5555555555555556,\"#d8576b\"],[0.6666666666666666,\"#ed7953\"],[0.7777777777777778,\"#fb9f3a\"],[0.8888888888888888,\"#fdca26\"],[1.0,\"#f0f921\"]]}],\"contourcarpet\":[{\"type\":\"contourcarpet\",\"colorbar\":{\"outlinewidth\":0,\"ticks\":\"\"}}],\"contour\":[{\"type\":\"contour\",\"colorbar\":{\"outlinewidth\":0,\"ticks\":\"\"},\"colorscale\":[[0.0,\"#0d0887\"],[0.1111111111111111,\"#46039f\"],[0.2222222222222222,\"#7201a8\"],[0.3333333333333333,\"#9c179e\"],[0.4444444444444444,\"#bd3786\"],[0.5555555555555556,\"#d8576b\"],[0.6666666666666666,\"#ed7953\"],[0.7777777777777778,\"#fb9f3a\"],[0.8888888888888888,\"#fdca26\"],[1.0,\"#f0f921\"]]}],\"surface\":[{\"type\":\"surface\",\"colorbar\":{\"outlinewidth\":0,\"ticks\":\"\"},\"colorscale\":[[0.0,\"#0d0887\"],[0.1111111111111111,\"#46039f\"],[0.2222222222222222,\"#7201a8\"],[0.3333333333333333,\"#9c179e\"],[0.4444444444444444,\"#bd3786\"],[0.5555555555555556,\"#d8576b\"],[0.6666666666666666,\"#ed7953\"],[0.7777777777777778,\"#fb9f3a\"],[0.8888888888888888,\"#fdca26\"],[1.0,\"#f0f921\"]]}],\"mesh3d\":[{\"type\":\"mesh3d\",\"colorbar\":{\"outlinewidth\":0,\"ticks\":\"\"}}],\"scatter\":[{\"fillpattern\":{\"fillmode\":\"overlay\",\"size\":10,\"solidity\":0.2},\"type\":\"scatter\"}],\"parcoords\":[{\"type\":\"parcoords\",\"line\":{\"colorbar\":{\"outlinewidth\":0,\"ticks\":\"\"}}}],\"scatterpolargl\":[{\"type\":\"scatterpolargl\",\"marker\":{\"colorbar\":{\"outlinewidth\":0,\"ticks\":\"\"}}}],\"bar\":[{\"error_x\":{\"color\":\"#2a3f5f\"},\"error_y\":{\"color\":\"#2a3f5f\"},\"marker\":{\"line\":{\"color\":\"#E5ECF6\",\"width\":0.5},\"pattern\":{\"fillmode\":\"overlay\",\"size\":10,\"solidity\":0.2}},\"type\":\"bar\"}],\"scattergeo\":[{\"type\":\"scattergeo\",\"marker\":{\"colorbar\":{\"outlinewidth\":0,\"ticks\":\"\"}}}],\"scatterpolar\":[{\"type\":\"scatterpolar\",\"marker\":{\"colorbar\":{\"outlinewidth\":0,\"ticks\":\"\"}}}],\"histogram\":[{\"marker\":{\"pattern\":{\"fillmode\":\"overlay\",\"size\":10,\"solidity\":0.2}},\"type\":\"histogram\"}],\"scattergl\":[{\"type\":\"scattergl\",\"marker\":{\"colorbar\":{\"outlinewidth\":0,\"ticks\":\"\"}}}],\"scatter3d\":[{\"type\":\"scatter3d\",\"line\":{\"colorbar\":{\"outlinewidth\":0,\"ticks\":\"\"}},\"marker\":{\"colorbar\":{\"outlinewidth\":0,\"ticks\":\"\"}}}],\"scattermapbox\":[{\"type\":\"scattermapbox\",\"marker\":{\"colorbar\":{\"outlinewidth\":0,\"ticks\":\"\"}}}],\"scatterternary\":[{\"type\":\"scatterternary\",\"marker\":{\"colorbar\":{\"outlinewidth\":0,\"ticks\":\"\"}}}],\"scattercarpet\":[{\"type\":\"scattercarpet\",\"marker\":{\"colorbar\":{\"outlinewidth\":0,\"ticks\":\"\"}}}],\"carpet\":[{\"aaxis\":{\"endlinecolor\":\"#2a3f5f\",\"gridcolor\":\"white\",\"linecolor\":\"white\",\"minorgridcolor\":\"white\",\"startlinecolor\":\"#2a3f5f\"},\"baxis\":{\"endlinecolor\":\"#2a3f5f\",\"gridcolor\":\"white\",\"linecolor\":\"white\",\"minorgridcolor\":\"white\",\"startlinecolor\":\"#2a3f5f\"},\"type\":\"carpet\"}],\"table\":[{\"cells\":{\"fill\":{\"color\":\"#EBF0F8\"},\"line\":{\"color\":\"white\"}},\"header\":{\"fill\":{\"color\":\"#C8D4E3\"},\"line\":{\"color\":\"white\"}},\"type\":\"table\"}],\"barpolar\":[{\"marker\":{\"line\":{\"color\":\"#E5ECF6\",\"width\":0.5},\"pattern\":{\"fillmode\":\"overlay\",\"size\":10,\"solidity\":0.2}},\"type\":\"barpolar\"}],\"pie\":[{\"automargin\":true,\"type\":\"pie\"}]},\"layout\":{\"autotypenumbers\":\"strict\",\"colorway\":[\"#636efa\",\"#EF553B\",\"#00cc96\",\"#ab63fa\",\"#FFA15A\",\"#19d3f3\",\"#FF6692\",\"#B6E880\",\"#FF97FF\",\"#FECB52\"],\"font\":{\"color\":\"#2a3f5f\"},\"hovermode\":\"closest\",\"hoverlabel\":{\"align\":\"left\"},\"paper_bgcolor\":\"white\",\"plot_bgcolor\":\"#E5ECF6\",\"polar\":{\"bgcolor\":\"#E5ECF6\",\"angularaxis\":{\"gridcolor\":\"white\",\"linecolor\":\"white\",\"ticks\":\"\"},\"radialaxis\":{\"gridcolor\":\"white\",\"linecolor\":\"white\",\"ticks\":\"\"}},\"ternary\":{\"bgcolor\":\"#E5ECF6\",\"aaxis\":{\"gridcolor\":\"white\",\"linecolor\":\"white\",\"ticks\":\"\"},\"baxis\":{\"gridcolor\":\"white\",\"linecolor\":\"white\",\"ticks\":\"\"},\"caxis\":{\"gridcolor\":\"white\",\"linecolor\":\"white\",\"ticks\":\"\"}},\"coloraxis\":{\"colorbar\":{\"outlinewidth\":0,\"ticks\":\"\"}},\"colorscale\":{\"sequential\":[[0.0,\"#0d0887\"],[0.1111111111111111,\"#46039f\"],[0.2222222222222222,\"#7201a8\"],[0.3333333333333333,\"#9c179e\"],[0.4444444444444444,\"#bd3786\"],[0.5555555555555556,\"#d8576b\"],[0.6666666666666666,\"#ed7953\"],[0.7777777777777778,\"#fb9f3a\"],[0.8888888888888888,\"#fdca26\"],[1.0,\"#f0f921\"]],\"sequentialminus\":[[0.0,\"#0d0887\"],[0.1111111111111111,\"#46039f\"],[0.2222222222222222,\"#7201a8\"],[0.3333333333333333,\"#9c179e\"],[0.4444444444444444,\"#bd3786\"],[0.5555555555555556,\"#d8576b\"],[0.6666666666666666,\"#ed7953\"],[0.7777777777777778,\"#fb9f3a\"],[0.8888888888888888,\"#fdca26\"],[1.0,\"#f0f921\"]],\"diverging\":[[0,\"#8e0152\"],[0.1,\"#c51b7d\"],[0.2,\"#de77ae\"],[0.3,\"#f1b6da\"],[0.4,\"#fde0ef\"],[0.5,\"#f7f7f7\"],[0.6,\"#e6f5d0\"],[0.7,\"#b8e186\"],[0.8,\"#7fbc41\"],[0.9,\"#4d9221\"],[1,\"#276419\"]]},\"xaxis\":{\"gridcolor\":\"white\",\"linecolor\":\"white\",\"ticks\":\"\",\"title\":{\"standoff\":15},\"zerolinecolor\":\"white\",\"automargin\":true,\"zerolinewidth\":2},\"yaxis\":{\"gridcolor\":\"white\",\"linecolor\":\"white\",\"ticks\":\"\",\"title\":{\"standoff\":15},\"zerolinecolor\":\"white\",\"automargin\":true,\"zerolinewidth\":2},\"scene\":{\"xaxis\":{\"backgroundcolor\":\"#E5ECF6\",\"gridcolor\":\"white\",\"linecolor\":\"white\",\"showbackground\":true,\"ticks\":\"\",\"zerolinecolor\":\"white\",\"gridwidth\":2},\"yaxis\":{\"backgroundcolor\":\"#E5ECF6\",\"gridcolor\":\"white\",\"linecolor\":\"white\",\"showbackground\":true,\"ticks\":\"\",\"zerolinecolor\":\"white\",\"gridwidth\":2},\"zaxis\":{\"backgroundcolor\":\"#E5ECF6\",\"gridcolor\":\"white\",\"linecolor\":\"white\",\"showbackground\":true,\"ticks\":\"\",\"zerolinecolor\":\"white\",\"gridwidth\":2}},\"shapedefaults\":{\"line\":{\"color\":\"#2a3f5f\"}},\"annotationdefaults\":{\"arrowcolor\":\"#2a3f5f\",\"arrowhead\":0,\"arrowwidth\":1},\"geo\":{\"bgcolor\":\"white\",\"landcolor\":\"#E5ECF6\",\"subunitcolor\":\"white\",\"showland\":true,\"showlakes\":true,\"lakecolor\":\"white\"},\"title\":{\"x\":0.05},\"mapbox\":{\"style\":\"light\"}}},\"polar\":{\"radialaxis\":{\"visible\":true}},\"showlegend\":false},                        {\"responsive\": true}                    ).then(function(){\n",
              "                            \n",
              "var gd = document.getElementById('90512aaa-5d77-470e-9e23-a1baa8ad17bc');\n",
              "var x = new MutationObserver(function (mutations, observer) {{\n",
              "        var display = window.getComputedStyle(gd).display;\n",
              "        if (!display || display === 'none') {{\n",
              "            console.log([gd, 'removed!']);\n",
              "            Plotly.purge(gd);\n",
              "            observer.disconnect();\n",
              "        }}\n",
              "}});\n",
              "\n",
              "// Listen for the removal of the full notebook cells\n",
              "var notebookContainer = gd.closest('#notebook-container');\n",
              "if (notebookContainer) {{\n",
              "    x.observe(notebookContainer, {childList: true});\n",
              "}}\n",
              "\n",
              "// Listen for the clearing of the current output cell\n",
              "var outputEl = gd.closest('.output');\n",
              "if (outputEl) {{\n",
              "    x.observe(outputEl, {childList: true});\n",
              "}}\n",
              "\n",
              "                        })                };                            </script>        </div>\n",
              "</body>\n",
              "</html>"
            ]
          },
          "metadata": {}
        }
      ]
    },
    {
      "cell_type": "code",
      "source": [
        "!cp /content/drive/MyDrive/Best_chormo/UNSW_best_chromo.npy UNSW_best_chromo.npy"
      ],
      "metadata": {
        "id": "rXozTKjnMxjM"
      },
      "execution_count": null,
      "outputs": []
    },
    {
      "cell_type": "code",
      "source": [
        "# Classification with top 10 features\n",
        "best_chromo = np.load('UNSW_best_chromo.npy')\n",
        "Xfs = X.iloc[:, best_chromo]"
      ],
      "metadata": {
        "id": "vsUHMJ8cMjFt"
      },
      "execution_count": null,
      "outputs": []
    },
    {
      "cell_type": "code",
      "source": [
        "# Thiết lập các tham số cho XGBoost\n",
        "xgb_params = {\n",
        "    'max_depth': 5,           # Độ sâu tối đa của các cây quyết định\n",
        "    'learning_rate': 0.1,     # Tốc độ học của mô hình\n",
        "    'n_estimators': 20,       # Số lượng cây trong mô hình\n",
        "    'objective': 'multi:softmax'  # Mục tiêu: dùng cho bài toán phân loại đa lớp\n",
        "}\n",
        "\n",
        "# Khởi tạo mô hình XGBoost với các tham số được thiết lập\n",
        "clf = XGBClassifier(**xgb_params)\n",
        "\n",
        "kf = KFold(shuffle=True)\n",
        "Y_test_fs = []\n",
        "Y_pred_fs = []\n",
        "\n",
        "for train_index, test_index in kf.split(Xfs):\n",
        "    X_train, X_test = Xfs.iloc[train_index], Xfs.iloc[test_index]\n",
        "    y_train, y_test = y.iloc[train_index], y.iloc[test_index]\n",
        "\n",
        "    clf.fit(X_train, y_train)\n",
        "    y_pred = clf.predict(X_test)\n",
        "\n",
        "    Y_test_fs.extend(y_test)\n",
        "    Y_pred_fs.extend(y_pred)\n",
        "\n",
        "report_fs = classification_report(Y_test_fs, Y_pred_fs, output_dict=True)\n",
        "\n",
        "table = [[\"Class\", \"Precision\", \"Recall\", \"F1-Score\", \"Support\"]]\n",
        "for key, value in report_fs.items():\n",
        "    if key != \"accuracy\" and key != \"macro avg\" and key != \"weighted avg\":\n",
        "        table.append([key, value['precision'], value['recall'], value['f1-score'], value['support']])\n",
        "\n",
        "print(tabulate(table, headers=\"firstrow\", tablefmt=\"grid\"))\n",
        "print('\\nAccuracy:', report_fs['accuracy'], '\\tRecall:', report_fs['macro avg']['recall'])"
      ],
      "metadata": {
        "colab": {
          "base_uri": "https://localhost:8080/"
        },
        "id": "YNEMR4joLXt0",
        "outputId": "a6ae91ff-ad42-49a7-89bc-9c3ea0fb3823"
      },
      "execution_count": null,
      "outputs": [
        {
          "output_type": "stream",
          "name": "stdout",
          "text": [
            "+---------+-------------+-----------+------------+-----------+\n",
            "|   Class |   Precision |    Recall |   F1-Score |   Support |\n",
            "+=========+=============+===========+============+===========+\n",
            "|       0 |    0.538462 | 0.0413589 |  0.0768176 |       677 |\n",
            "+---------+-------------+-----------+------------+-----------+\n",
            "|       1 |    0.357143 | 0.017331  |  0.0330579 |       577 |\n",
            "+---------+-------------+-----------+------------+-----------+\n",
            "|       2 |    0.505872 | 0.136953  |  0.21555   |      4089 |\n",
            "+---------+-------------+-----------+------------+-----------+\n",
            "|       3 |    0.670846 | 0.659255  |  0.665     |      7061 |\n",
            "+---------+-------------+-----------+------------+-----------+\n",
            "|       4 |    0.617266 | 0.951998  |  0.748932  |     12062 |\n",
            "+---------+-------------+-----------+------------+-----------+\n",
            "|       5 |    0.737107 | 0.729466  |  0.733267  |      5016 |\n",
            "+---------+-------------+-----------+------------+-----------+\n",
            "|       6 |    0.998901 | 0.984743  |  0.991772  |     31395 |\n",
            "+---------+-------------+-----------+------------+-----------+\n",
            "|       7 |    0.710602 | 0.146313  |  0.242661  |      1695 |\n",
            "+---------+-------------+-----------+------------+-----------+\n",
            "|       8 |    0        | 0         |  0         |       378 |\n",
            "+---------+-------------+-----------+------------+-----------+\n",
            "|       9 |    0        | 0         |  0         |        44 |\n",
            "+---------+-------------+-----------+------------+-----------+\n",
            "\n",
            "Accuracy: 0.8184747753754326 \tRecall: 0.3667417020046015\n"
          ]
        }
      ]
    },
    {
      "cell_type": "code",
      "source": [
        "print(\"Keys in report_fs:\", report_fs.keys())\n"
      ],
      "metadata": {
        "colab": {
          "base_uri": "https://localhost:8080/"
        },
        "id": "e-MMmTiKT5me",
        "outputId": "47f0dbb4-1574-47d1-b2de-8483ae46f5dd"
      },
      "execution_count": null,
      "outputs": [
        {
          "output_type": "stream",
          "name": "stdout",
          "text": [
            "Keys in report_fs: dict_keys(['0', '1', '2', '3', '4', '5', '6', '7', '8', '9', 'accuracy', 'macro avg', 'weighted avg'])\n"
          ]
        }
      ]
    },
    {
      "cell_type": "code",
      "source": [
        "# Radar chart for full feature classification\n",
        "encoded_labels = list(label_encoders['attack_cat'].classes_)\n",
        "accuracies = [report[str(x)]['precision'] for x in range(len(encoded_labels))]\n",
        "\n",
        "fig = go.Figure(data=go.Scatterpolar(\n",
        "    r=accuracies,\n",
        "    theta=encoded_labels,\n",
        "    fill='toself'\n",
        "))\n",
        "\n",
        "fig.update_layout(\n",
        "    polar=dict(\n",
        "        radialaxis=dict(\n",
        "            visible=True\n",
        "        ),\n",
        "    ),\n",
        "    showlegend=False\n",
        ")\n",
        "\n",
        "fig.show()"
      ],
      "metadata": {
        "colab": {
          "base_uri": "https://localhost:8080/",
          "height": 542
        },
        "id": "W6f053-dLZgc",
        "outputId": "25a86240-85c2-48a3-e1b8-5694137e66be"
      },
      "execution_count": null,
      "outputs": [
        {
          "output_type": "display_data",
          "data": {
            "text/html": [
              "<html>\n",
              "<head><meta charset=\"utf-8\" /></head>\n",
              "<body>\n",
              "    <div>            <script src=\"https://cdnjs.cloudflare.com/ajax/libs/mathjax/2.7.5/MathJax.js?config=TeX-AMS-MML_SVG\"></script><script type=\"text/javascript\">if (window.MathJax && window.MathJax.Hub && window.MathJax.Hub.Config) {window.MathJax.Hub.Config({SVG: {font: \"STIX-Web\"}});}</script>                <script type=\"text/javascript\">window.PlotlyConfig = {MathJaxConfig: 'local'};</script>\n",
              "        <script charset=\"utf-8\" src=\"https://cdn.plot.ly/plotly-2.24.1.min.js\"></script>                <div id=\"0bdcfd12-aba7-4ef2-99d7-793e05423277\" class=\"plotly-graph-div\" style=\"height:525px; width:100%;\"></div>            <script type=\"text/javascript\">                                    window.PLOTLYENV=window.PLOTLYENV || {};                                    if (document.getElementById(\"0bdcfd12-aba7-4ef2-99d7-793e05423277\")) {                    Plotly.newPlot(                        \"0bdcfd12-aba7-4ef2-99d7-793e05423277\",                        [{\"fill\":\"toself\",\"r\":[0.5594405594405595,0.8181818181818182,0.3842252535851696,0.7151522654122308,0.8865753868589484,0.9827296713840249,0.9997736239570533,0.9612648221343874,0.6094276094276094,0.0],\"theta\":[\"Analysis\",\"Backdoor\",\"DoS\",\"Exploits\",\"Fuzzers\",\"Generic\",\"Normal\",\"Reconnaissance\",\"Shellcode\",\"Worms\"],\"type\":\"scatterpolar\"}],                        {\"template\":{\"data\":{\"histogram2dcontour\":[{\"type\":\"histogram2dcontour\",\"colorbar\":{\"outlinewidth\":0,\"ticks\":\"\"},\"colorscale\":[[0.0,\"#0d0887\"],[0.1111111111111111,\"#46039f\"],[0.2222222222222222,\"#7201a8\"],[0.3333333333333333,\"#9c179e\"],[0.4444444444444444,\"#bd3786\"],[0.5555555555555556,\"#d8576b\"],[0.6666666666666666,\"#ed7953\"],[0.7777777777777778,\"#fb9f3a\"],[0.8888888888888888,\"#fdca26\"],[1.0,\"#f0f921\"]]}],\"choropleth\":[{\"type\":\"choropleth\",\"colorbar\":{\"outlinewidth\":0,\"ticks\":\"\"}}],\"histogram2d\":[{\"type\":\"histogram2d\",\"colorbar\":{\"outlinewidth\":0,\"ticks\":\"\"},\"colorscale\":[[0.0,\"#0d0887\"],[0.1111111111111111,\"#46039f\"],[0.2222222222222222,\"#7201a8\"],[0.3333333333333333,\"#9c179e\"],[0.4444444444444444,\"#bd3786\"],[0.5555555555555556,\"#d8576b\"],[0.6666666666666666,\"#ed7953\"],[0.7777777777777778,\"#fb9f3a\"],[0.8888888888888888,\"#fdca26\"],[1.0,\"#f0f921\"]]}],\"heatmap\":[{\"type\":\"heatmap\",\"colorbar\":{\"outlinewidth\":0,\"ticks\":\"\"},\"colorscale\":[[0.0,\"#0d0887\"],[0.1111111111111111,\"#46039f\"],[0.2222222222222222,\"#7201a8\"],[0.3333333333333333,\"#9c179e\"],[0.4444444444444444,\"#bd3786\"],[0.5555555555555556,\"#d8576b\"],[0.6666666666666666,\"#ed7953\"],[0.7777777777777778,\"#fb9f3a\"],[0.8888888888888888,\"#fdca26\"],[1.0,\"#f0f921\"]]}],\"heatmapgl\":[{\"type\":\"heatmapgl\",\"colorbar\":{\"outlinewidth\":0,\"ticks\":\"\"},\"colorscale\":[[0.0,\"#0d0887\"],[0.1111111111111111,\"#46039f\"],[0.2222222222222222,\"#7201a8\"],[0.3333333333333333,\"#9c179e\"],[0.4444444444444444,\"#bd3786\"],[0.5555555555555556,\"#d8576b\"],[0.6666666666666666,\"#ed7953\"],[0.7777777777777778,\"#fb9f3a\"],[0.8888888888888888,\"#fdca26\"],[1.0,\"#f0f921\"]]}],\"contourcarpet\":[{\"type\":\"contourcarpet\",\"colorbar\":{\"outlinewidth\":0,\"ticks\":\"\"}}],\"contour\":[{\"type\":\"contour\",\"colorbar\":{\"outlinewidth\":0,\"ticks\":\"\"},\"colorscale\":[[0.0,\"#0d0887\"],[0.1111111111111111,\"#46039f\"],[0.2222222222222222,\"#7201a8\"],[0.3333333333333333,\"#9c179e\"],[0.4444444444444444,\"#bd3786\"],[0.5555555555555556,\"#d8576b\"],[0.6666666666666666,\"#ed7953\"],[0.7777777777777778,\"#fb9f3a\"],[0.8888888888888888,\"#fdca26\"],[1.0,\"#f0f921\"]]}],\"surface\":[{\"type\":\"surface\",\"colorbar\":{\"outlinewidth\":0,\"ticks\":\"\"},\"colorscale\":[[0.0,\"#0d0887\"],[0.1111111111111111,\"#46039f\"],[0.2222222222222222,\"#7201a8\"],[0.3333333333333333,\"#9c179e\"],[0.4444444444444444,\"#bd3786\"],[0.5555555555555556,\"#d8576b\"],[0.6666666666666666,\"#ed7953\"],[0.7777777777777778,\"#fb9f3a\"],[0.8888888888888888,\"#fdca26\"],[1.0,\"#f0f921\"]]}],\"mesh3d\":[{\"type\":\"mesh3d\",\"colorbar\":{\"outlinewidth\":0,\"ticks\":\"\"}}],\"scatter\":[{\"fillpattern\":{\"fillmode\":\"overlay\",\"size\":10,\"solidity\":0.2},\"type\":\"scatter\"}],\"parcoords\":[{\"type\":\"parcoords\",\"line\":{\"colorbar\":{\"outlinewidth\":0,\"ticks\":\"\"}}}],\"scatterpolargl\":[{\"type\":\"scatterpolargl\",\"marker\":{\"colorbar\":{\"outlinewidth\":0,\"ticks\":\"\"}}}],\"bar\":[{\"error_x\":{\"color\":\"#2a3f5f\"},\"error_y\":{\"color\":\"#2a3f5f\"},\"marker\":{\"line\":{\"color\":\"#E5ECF6\",\"width\":0.5},\"pattern\":{\"fillmode\":\"overlay\",\"size\":10,\"solidity\":0.2}},\"type\":\"bar\"}],\"scattergeo\":[{\"type\":\"scattergeo\",\"marker\":{\"colorbar\":{\"outlinewidth\":0,\"ticks\":\"\"}}}],\"scatterpolar\":[{\"type\":\"scatterpolar\",\"marker\":{\"colorbar\":{\"outlinewidth\":0,\"ticks\":\"\"}}}],\"histogram\":[{\"marker\":{\"pattern\":{\"fillmode\":\"overlay\",\"size\":10,\"solidity\":0.2}},\"type\":\"histogram\"}],\"scattergl\":[{\"type\":\"scattergl\",\"marker\":{\"colorbar\":{\"outlinewidth\":0,\"ticks\":\"\"}}}],\"scatter3d\":[{\"type\":\"scatter3d\",\"line\":{\"colorbar\":{\"outlinewidth\":0,\"ticks\":\"\"}},\"marker\":{\"colorbar\":{\"outlinewidth\":0,\"ticks\":\"\"}}}],\"scattermapbox\":[{\"type\":\"scattermapbox\",\"marker\":{\"colorbar\":{\"outlinewidth\":0,\"ticks\":\"\"}}}],\"scatterternary\":[{\"type\":\"scatterternary\",\"marker\":{\"colorbar\":{\"outlinewidth\":0,\"ticks\":\"\"}}}],\"scattercarpet\":[{\"type\":\"scattercarpet\",\"marker\":{\"colorbar\":{\"outlinewidth\":0,\"ticks\":\"\"}}}],\"carpet\":[{\"aaxis\":{\"endlinecolor\":\"#2a3f5f\",\"gridcolor\":\"white\",\"linecolor\":\"white\",\"minorgridcolor\":\"white\",\"startlinecolor\":\"#2a3f5f\"},\"baxis\":{\"endlinecolor\":\"#2a3f5f\",\"gridcolor\":\"white\",\"linecolor\":\"white\",\"minorgridcolor\":\"white\",\"startlinecolor\":\"#2a3f5f\"},\"type\":\"carpet\"}],\"table\":[{\"cells\":{\"fill\":{\"color\":\"#EBF0F8\"},\"line\":{\"color\":\"white\"}},\"header\":{\"fill\":{\"color\":\"#C8D4E3\"},\"line\":{\"color\":\"white\"}},\"type\":\"table\"}],\"barpolar\":[{\"marker\":{\"line\":{\"color\":\"#E5ECF6\",\"width\":0.5},\"pattern\":{\"fillmode\":\"overlay\",\"size\":10,\"solidity\":0.2}},\"type\":\"barpolar\"}],\"pie\":[{\"automargin\":true,\"type\":\"pie\"}]},\"layout\":{\"autotypenumbers\":\"strict\",\"colorway\":[\"#636efa\",\"#EF553B\",\"#00cc96\",\"#ab63fa\",\"#FFA15A\",\"#19d3f3\",\"#FF6692\",\"#B6E880\",\"#FF97FF\",\"#FECB52\"],\"font\":{\"color\":\"#2a3f5f\"},\"hovermode\":\"closest\",\"hoverlabel\":{\"align\":\"left\"},\"paper_bgcolor\":\"white\",\"plot_bgcolor\":\"#E5ECF6\",\"polar\":{\"bgcolor\":\"#E5ECF6\",\"angularaxis\":{\"gridcolor\":\"white\",\"linecolor\":\"white\",\"ticks\":\"\"},\"radialaxis\":{\"gridcolor\":\"white\",\"linecolor\":\"white\",\"ticks\":\"\"}},\"ternary\":{\"bgcolor\":\"#E5ECF6\",\"aaxis\":{\"gridcolor\":\"white\",\"linecolor\":\"white\",\"ticks\":\"\"},\"baxis\":{\"gridcolor\":\"white\",\"linecolor\":\"white\",\"ticks\":\"\"},\"caxis\":{\"gridcolor\":\"white\",\"linecolor\":\"white\",\"ticks\":\"\"}},\"coloraxis\":{\"colorbar\":{\"outlinewidth\":0,\"ticks\":\"\"}},\"colorscale\":{\"sequential\":[[0.0,\"#0d0887\"],[0.1111111111111111,\"#46039f\"],[0.2222222222222222,\"#7201a8\"],[0.3333333333333333,\"#9c179e\"],[0.4444444444444444,\"#bd3786\"],[0.5555555555555556,\"#d8576b\"],[0.6666666666666666,\"#ed7953\"],[0.7777777777777778,\"#fb9f3a\"],[0.8888888888888888,\"#fdca26\"],[1.0,\"#f0f921\"]],\"sequentialminus\":[[0.0,\"#0d0887\"],[0.1111111111111111,\"#46039f\"],[0.2222222222222222,\"#7201a8\"],[0.3333333333333333,\"#9c179e\"],[0.4444444444444444,\"#bd3786\"],[0.5555555555555556,\"#d8576b\"],[0.6666666666666666,\"#ed7953\"],[0.7777777777777778,\"#fb9f3a\"],[0.8888888888888888,\"#fdca26\"],[1.0,\"#f0f921\"]],\"diverging\":[[0,\"#8e0152\"],[0.1,\"#c51b7d\"],[0.2,\"#de77ae\"],[0.3,\"#f1b6da\"],[0.4,\"#fde0ef\"],[0.5,\"#f7f7f7\"],[0.6,\"#e6f5d0\"],[0.7,\"#b8e186\"],[0.8,\"#7fbc41\"],[0.9,\"#4d9221\"],[1,\"#276419\"]]},\"xaxis\":{\"gridcolor\":\"white\",\"linecolor\":\"white\",\"ticks\":\"\",\"title\":{\"standoff\":15},\"zerolinecolor\":\"white\",\"automargin\":true,\"zerolinewidth\":2},\"yaxis\":{\"gridcolor\":\"white\",\"linecolor\":\"white\",\"ticks\":\"\",\"title\":{\"standoff\":15},\"zerolinecolor\":\"white\",\"automargin\":true,\"zerolinewidth\":2},\"scene\":{\"xaxis\":{\"backgroundcolor\":\"#E5ECF6\",\"gridcolor\":\"white\",\"linecolor\":\"white\",\"showbackground\":true,\"ticks\":\"\",\"zerolinecolor\":\"white\",\"gridwidth\":2},\"yaxis\":{\"backgroundcolor\":\"#E5ECF6\",\"gridcolor\":\"white\",\"linecolor\":\"white\",\"showbackground\":true,\"ticks\":\"\",\"zerolinecolor\":\"white\",\"gridwidth\":2},\"zaxis\":{\"backgroundcolor\":\"#E5ECF6\",\"gridcolor\":\"white\",\"linecolor\":\"white\",\"showbackground\":true,\"ticks\":\"\",\"zerolinecolor\":\"white\",\"gridwidth\":2}},\"shapedefaults\":{\"line\":{\"color\":\"#2a3f5f\"}},\"annotationdefaults\":{\"arrowcolor\":\"#2a3f5f\",\"arrowhead\":0,\"arrowwidth\":1},\"geo\":{\"bgcolor\":\"white\",\"landcolor\":\"#E5ECF6\",\"subunitcolor\":\"white\",\"showland\":true,\"showlakes\":true,\"lakecolor\":\"white\"},\"title\":{\"x\":0.05},\"mapbox\":{\"style\":\"light\"}}},\"polar\":{\"radialaxis\":{\"visible\":true}},\"showlegend\":false},                        {\"responsive\": true}                    ).then(function(){\n",
              "                            \n",
              "var gd = document.getElementById('0bdcfd12-aba7-4ef2-99d7-793e05423277');\n",
              "var x = new MutationObserver(function (mutations, observer) {{\n",
              "        var display = window.getComputedStyle(gd).display;\n",
              "        if (!display || display === 'none') {{\n",
              "            console.log([gd, 'removed!']);\n",
              "            Plotly.purge(gd);\n",
              "            observer.disconnect();\n",
              "        }}\n",
              "}});\n",
              "\n",
              "// Listen for the removal of the full notebook cells\n",
              "var notebookContainer = gd.closest('#notebook-container');\n",
              "if (notebookContainer) {{\n",
              "    x.observe(notebookContainer, {childList: true});\n",
              "}}\n",
              "\n",
              "// Listen for the clearing of the current output cell\n",
              "var outputEl = gd.closest('.output');\n",
              "if (outputEl) {{\n",
              "    x.observe(outputEl, {childList: true});\n",
              "}}\n",
              "\n",
              "                        })                };                            </script>        </div>\n",
              "</body>\n",
              "</html>"
            ]
          },
          "metadata": {}
        }
      ]
    },
    {
      "cell_type": "code",
      "source": [
        "# Save model\n",
        "from joblib import dump\n",
        "dump(clf, 'nt204_xgboost_UNSW_GA.joblib')"
      ],
      "metadata": {
        "colab": {
          "base_uri": "https://localhost:8080/"
        },
        "id": "qxPmjrWyeNRG",
        "outputId": "5db5f22c-037e-476f-f933-d5e3ffa9e475"
      },
      "execution_count": null,
      "outputs": [
        {
          "output_type": "execute_result",
          "data": {
            "text/plain": [
              "['nt204_xgboost_UNSW_GA.joblib']"
            ]
          },
          "metadata": {},
          "execution_count": 56
        }
      ]
    },
    {
      "cell_type": "code",
      "source": [
        "!cp nt204_xgboost_UNSW_GA.joblib /content/drive/MyDrive/Best_chormo"
      ],
      "metadata": {
        "id": "hk2KwYfje0rm"
      },
      "execution_count": null,
      "outputs": []
    }
  ]
}