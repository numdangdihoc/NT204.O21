{
  "cells": [
    {
      "cell_type": "code",
      "execution_count": null,
      "metadata": {
        "colab": {
          "base_uri": "https://localhost:8080/"
        },
        "id": "z_ADF-7RPND1",
        "outputId": "25056f7b-ab4d-4864-f1f2-17e43d7eec27"
      },
      "outputs": [
        {
          "output_type": "stream",
          "name": "stderr",
          "text": [
            "Intel(R) Extension for Scikit-learn* enabled (https://github.com/intel/scikit-learn-intelex)\n"
          ]
        }
      ],
      "source": [
        "# Libary\n",
        "import matplotlib.pyplot as plt\n",
        "import numpy as np\n",
        "import gdown\n",
        "import pandas as pd\n",
        "from sklearn.model_selection import cross_val_score, KFold\n",
        "from sklearn.preprocessing import LabelEncoder\n",
        "from sklearn.preprocessing import MinMaxScaler\n",
        "import warnings\n",
        "import zipfile\n",
        "\n",
        "# Ignore all warnings\n",
        "warnings.filterwarnings(\"ignore\")\n",
        "\n",
        "#!pip install scikit-learn-intelex -q --progress-bar off\n",
        "#from sklearnex import patch_sklearn\n",
        "#patch_sklearn()"
      ]
    },
    {
      "cell_type": "markdown",
      "metadata": {
        "id": "L5WsEFVnVDgB"
      },
      "source": [
        "\n",
        "\n",
        "\n",
        "\n",
        "---\n",
        "\n",
        "\n",
        "Dataset preparation\n",
        "\n",
        "\n"
      ]
    },
    {
      "cell_type": "code",
      "execution_count": null,
      "metadata": {
        "colab": {
          "base_uri": "https://localhost:8080/",
          "height": 385
        },
        "id": "5HHc9ps00ePa",
        "outputId": "c1416505-e6bb-4eef-c4e8-eff556590e8e"
      },
      "outputs": [
        {
          "output_type": "stream",
          "name": "stderr",
          "text": [
            "Downloading...\n",
            "From (original): https://drive.google.com/uc?id=1ELj3s17Zpy5KmMzGSNh8jDYFWJ909K5N\n",
            "From (redirected): https://drive.google.com/uc?id=1ELj3s17Zpy5KmMzGSNh8jDYFWJ909K5N&confirm=t&uuid=18a1c3d2-6a59-4663-8865-027e643c12b1\n",
            "To: /content/Bot_iot_0_05.zip\n",
            "100%|██████████| 57.2M/57.2M [00:01<00:00, 32.8MB/s]\n"
          ]
        },
        {
          "output_type": "execute_result",
          "data": {
            "text/plain": [
              "'Bot_iot_0_05.zip'"
            ],
            "application/vnd.google.colaboratory.intrinsic+json": {
              "type": "string"
            }
          },
          "metadata": {},
          "execution_count": 2
        }
      ],
      "source": [
        "# Download dataset\n",
        "url = 'https://drive.google.com/uc?id=1ELj3s17Zpy5KmMzGSNh8jDYFWJ909K5N'\n",
        "\n",
        "# Path where you want to save the downloaded file\n",
        "output = 'Bot_iot_0_05.zip'\n",
        "\n",
        "# Download the file\n",
        "gdown.download(url, output, quiet=False)"
      ]
    },
    {
      "cell_type": "code",
      "execution_count": null,
      "metadata": {
        "id": "wK53OeHeT3wc"
      },
      "outputs": [],
      "source": [
        "# Unzip dataset\n",
        "with zipfile.ZipFile('Bot_iot_0_05.zip', 'r') as zip_ref:\n",
        "  zip_ref.extractall()"
      ]
    },
    {
      "cell_type": "code",
      "execution_count": null,
      "metadata": {
        "id": "MGlsfTM0UKNj"
      },
      "outputs": [],
      "source": [
        "## Load dataset for learning\n",
        "file_paths = ['reduced_data_{}.csv'.format(x) for x in range(1, 4+1)]\n",
        "\n",
        "# Read each CSV file into separate DataFrames\n",
        "dfs = [pd.read_csv(file) for file in file_paths]\n",
        "\n",
        "# Concatenate the DataFrames into a single DataFrame\n",
        "data = pd.concat(dfs, ignore_index=True)\n",
        "\n",
        "data = data.drop(columns=['pkSeqID','stime','ltime','flgs_number','proto_number',\n",
        "                          'saddr','sport','daddr','pkts','bytes','state_number',\n",
        "                          'seq','dur','rate'])"
      ]
    },
    {
      "cell_type": "code",
      "source": [
        "def balance_class(df, cls_col, cls, cls_size):\n",
        "    resampled_dfs = [df[df[cls_col] != cls]]\n",
        "    cls_df = df[df[cls_col] == cls]\n",
        "    current_class_size = len(cls_df)\n",
        "\n",
        "    if current_class_size > cls_size:\n",
        "        # Undersample: Reduce the number of samples\n",
        "        cls_df_resampled = cls_df.sample(cls_size, random_state=42)\n",
        "    elif current_class_size < cls_size:\n",
        "        # Oversample: Increase the number of samples\n",
        "        cls_df_resampled = cls_df.sample(cls_size, replace=True, random_state=42)\n",
        "    else:\n",
        "        cls_df_resampled = cls_df\n",
        "\n",
        "    resampled_dfs.append(cls_df_resampled)\n",
        "\n",
        "    return pd.concat(resampled_dfs).reset_index(drop=True)"
      ],
      "metadata": {
        "id": "EcgTHydu-Thb"
      },
      "execution_count": null,
      "outputs": []
    },
    {
      "cell_type": "code",
      "source": [
        "data = balance_class(data, 'category', 'DDoS', 240000)\n",
        "data = balance_class(data, 'category', 'DoS', 242788)\n",
        "data = balance_class(data, 'category', 'Reconnaissance', 182166)\n",
        "data = balance_class(data, 'category', 'Theft', 160)"
      ],
      "metadata": {
        "id": "9ByjCQX_B3Ae"
      },
      "execution_count": null,
      "outputs": []
    },
    {
      "cell_type": "code",
      "execution_count": null,
      "metadata": {
        "colab": {
          "base_uri": "https://localhost:8080/"
        },
        "id": "rUJE_FHt8TjZ",
        "outputId": "bdcf437d-4513-4d9d-ec62-faeca0ee6882"
      },
      "outputs": [
        {
          "output_type": "stream",
          "name": "stdout",
          "text": [
            "Number of features:  32\n"
          ]
        }
      ],
      "source": [
        "# Number of features\n",
        "print('Number of features: ',data.shape[1])"
      ]
    },
    {
      "cell_type": "code",
      "execution_count": null,
      "metadata": {
        "colab": {
          "base_uri": "https://localhost:8080/"
        },
        "id": "ecX-7foy8Tja",
        "outputId": "edc59875-b7f0-4f68-a9c2-ba80fc56c633"
      },
      "outputs": [
        {
          "output_type": "stream",
          "name": "stdout",
          "text": [
            "Record per class:\n",
            " category\n",
            "DDoS              240000\n",
            "DoS               242788\n",
            "Normal               477\n",
            "Reconnaissance    182166\n",
            "Theft                160\n",
            "dtype: int64\n",
            "\n",
            "Sum:\t\t 665591\n"
          ]
        }
      ],
      "source": [
        "# Record per class\n",
        "print('Record per class:\\n',data.groupby('category').size())\n",
        "print('\\nSum:\\t\\t',data['category'].size)"
      ]
    },
    {
      "cell_type": "markdown",
      "metadata": {
        "id": "vFs32DI2rhaL"
      },
      "source": [
        "\n",
        "\n",
        "\n",
        "Dataset preparation\n",
        "\n",
        "\n",
        "---\n",
        "\n",
        "\n"
      ]
    },
    {
      "cell_type": "markdown",
      "metadata": {
        "id": "EmsEUc-i_abQ"
      },
      "source": [
        "\n",
        "\n",
        "---\n",
        "\n",
        "Data preprocessing"
      ]
    },
    {
      "cell_type": "code",
      "execution_count": null,
      "metadata": {
        "id": "WwEPCQ-t8aFq"
      },
      "outputs": [],
      "source": [
        "# Encode categorical variables into numeric values\n",
        "labels = data['category'].unique()\n",
        "label_encoders = {}\n",
        "for column in data.select_dtypes(include=['object']).columns:\n",
        "    label_encoders[column] = LabelEncoder()\n",
        "    data[column] = data[column].astype(str)\n",
        "    data[column] = label_encoders[column].fit_transform(data[column])"
      ]
    },
    {
      "cell_type": "code",
      "execution_count": null,
      "metadata": {
        "id": "qRsH4PKgA-Kh"
      },
      "outputs": [],
      "source": [
        "X = data.drop(columns=['attack', 'category', 'subcategory'])\n",
        "y = label_encoders['category'].inverse_transform(data['category'])"
      ]
    },
    {
      "cell_type": "code",
      "source": [
        "print('Number of train features: ',X.shape[1])"
      ],
      "metadata": {
        "colab": {
          "base_uri": "https://localhost:8080/"
        },
        "id": "0tCPjPzcpf0o",
        "outputId": "33faf5f2-3433-497c-a095-536798313b76"
      },
      "execution_count": null,
      "outputs": [
        {
          "output_type": "stream",
          "name": "stdout",
          "text": [
            "Number of train features:  29\n"
          ]
        }
      ]
    },
    {
      "cell_type": "code",
      "execution_count": null,
      "metadata": {
        "id": "SR4jvbmEA9KA"
      },
      "outputs": [],
      "source": [
        "## Scaling and standardlize\n",
        "scaler = MinMaxScaler()\n",
        "X = pd.DataFrame(scaler.fit_transform(X),columns=X.columns)"
      ]
    },
    {
      "cell_type": "markdown",
      "metadata": {
        "id": "76XQ1mwm_iFb"
      },
      "source": [
        "\n",
        "Data preprocessing\n",
        "\n",
        "\n",
        "---\n",
        "\n"
      ]
    },
    {
      "cell_type": "markdown",
      "metadata": {
        "id": "tI16ddX_9oNn"
      },
      "source": [
        "\n",
        "\n",
        "---\n",
        "\n",
        "Feature selecttion\n"
      ]
    },
    {
      "cell_type": "code",
      "execution_count": null,
      "metadata": {
        "id": "ob7e_E6E9oNt"
      },
      "outputs": [],
      "source": [
        "def initialize_population(size, num_features, chromo_len):\n",
        "    population = []\n",
        "    for _ in range(size):\n",
        "        chromosome = np.random.choice(num_features, size=chromo_len, replace=False)\n",
        "        population.append(chromosome)\n",
        "    return np.array(population)"
      ]
    },
    {
      "cell_type": "code",
      "execution_count": null,
      "metadata": {
        "id": "t9LQTFK79oNt"
      },
      "outputs": [],
      "source": [
        "from sklearn.model_selection import KFold, cross_val_score\n",
        "from sklearn.linear_model import LogisticRegression\n",
        "def compute_fitness(population, X, y):\n",
        "    fitness_values = []\n",
        "    kf=KFold(shuffle=True)\n",
        "    for chromosome in population:\n",
        "        # Accuracy\n",
        "        Xfs = X.iloc[:,chromosome]\n",
        "\n",
        "        accuracy = cross_val_score(LogisticRegression(), X, y, cv=KFold(), scoring='accuracy').mean()\n",
        "\n",
        "        # Correlation matrix\n",
        "        corr_matrix = np.corrcoef(Xfs, rowvar=False)\n",
        "        corr_matrix = pd.DataFrame(corr_matrix).fillna(0).to_numpy()\n",
        "\n",
        "        # Correlation transform\n",
        "        corr_t_avg = 1 - abs((np.sum(corr_matrix) - np.trace(corr_matrix)) / (corr_matrix.size - corr_matrix.shape[0]))\n",
        "\n",
        "        fitness_values.append((accuracy + corr_t_avg) / 2)\n",
        "\n",
        "    return fitness_values"
      ]
    },
    {
      "cell_type": "code",
      "execution_count": null,
      "metadata": {
        "id": "rGHTh8CI9oNt"
      },
      "outputs": [],
      "source": [
        "def parents_selection(population, fitness_values):\n",
        "    total_fitness = np.sum(fitness_values)\n",
        "    # Calculate selection probabilities for each chromosome\n",
        "    selection_probabilities = fitness_values / total_fitness\n",
        "    # Perform roulette wheel selection\n",
        "    selected_indices = np.random.choice(np.arange(len(population)), size=len(population), p=selection_probabilities)\n",
        "    # Select the chromosomes based on the selected indices\n",
        "    selected_parents = population[selected_indices]\n",
        "    return selected_parents"
      ]
    },
    {
      "cell_type": "code",
      "execution_count": null,
      "metadata": {
        "id": "OPmIfGjq9oNt"
      },
      "outputs": [],
      "source": [
        "def crossover(parents, crossover_rate=0.5):\n",
        "    num_parents = parents.shape[0]\n",
        "    num_genes = parents.shape[1]\n",
        "    offspring = np.empty_like(parents)\n",
        "    for i in range(num_parents):\n",
        "        # Select two parents for crossover\n",
        "        parent1 = parents[i]\n",
        "        parent2 = parents[(i + 1) % num_parents]\n",
        "        # Create a child chromosome\n",
        "        child = np.empty(num_genes)\n",
        "        cross_g = int(num_genes * crossover_rate)\n",
        "        # Copy the second half of parent1 to first half of child\n",
        "        child[:cross_g] = parent1[cross_g:]\n",
        "        # Copy (num_genes - cross_g) genes from parent2 that different from first half of child to the second half\n",
        "        child[cross_g:] = [e for e in parent2 if e not in child[:cross_g]][:(num_genes - cross_g)]\n",
        "        # Add the child to the offspring\n",
        "        offspring[i] = child\n",
        "    return offspring"
      ]
    },
    {
      "cell_type": "code",
      "execution_count": null,
      "metadata": {
        "id": "cIoku8f49oNt"
      },
      "outputs": [],
      "source": [
        "def mutation(parents, num_features, mutation_rate=0.5):\n",
        "    num_parents = parents.shape[0]\n",
        "    num_genes = parents.shape[1]\n",
        "    offspring = np.empty_like(parents)\n",
        "    mutate_g = int(num_genes * mutation_rate)\n",
        "    for i in range(num_parents):\n",
        "        child = np.empty(num_genes)\n",
        "\n",
        "        # Half first\n",
        "        s = 0\n",
        "        a = []\n",
        "        for j in range(num_genes):\n",
        "            s+=mutation_rate\n",
        "            if int(s)==1:\n",
        "                a.append(parents[i][j])\n",
        "                s-=1\n",
        "        child[:mutate_g] = a\n",
        "\n",
        "        # Half second\n",
        "        child[mutate_g:] =  np.random.choice(np.setdiff1d(np.arange(num_features), child),\n",
        "                                             size=num_genes-mutate_g, replace=False)\n",
        "\n",
        "        # Add the mutated child to the offspring\n",
        "        offspring[i] = child\n",
        "    return offspring"
      ]
    },
    {
      "cell_type": "code",
      "execution_count": null,
      "metadata": {
        "id": "aaLvvxbz9oNt"
      },
      "outputs": [],
      "source": [
        "def generations(X, y, pop_size, chromo_len,\n",
        "                mutation_rate=0.5, crossover_rate=0.5):\n",
        "    population = initialize_population(size=pop_size, num_features=X.shape[1], chromo_len=chromo_len)\n",
        "    fitness_values = compute_fitness(population=population, X=X, y=y)\n",
        "\n",
        "    mf_g = np.max(fitness_values)\n",
        "    mf = mf_g\n",
        "    best_chromo_g = population[np.argmax(fitness_values)]\n",
        "    gen = 0\n",
        "    best_chromo = best_chromo_g\n",
        "\n",
        "    print(\"Max fitness of generation\", gen, \": \", mf_g)\n",
        "    mf_g = -1\n",
        "\n",
        "    while True:\n",
        "      gen += 1\n",
        "\n",
        "      selected_parents = parents_selection(population, fitness_values)\n",
        "      population = crossover(selected_parents, crossover_rate=crossover_rate)\n",
        "      fitness_values = compute_fitness(population=population, X=X, y=y)\n",
        "      if np.max(fitness_values) > mf_g:\n",
        "        mf_g = np.max(fitness_values)\n",
        "        best_chromo_g = population[np.argmax(fitness_values)]\n",
        "\n",
        "      selected_parents = parents_selection(population, fitness_values)\n",
        "      population = mutation(selected_parents, num_features=X.shape[1], mutation_rate=mutation_rate)\n",
        "      fitness_values = compute_fitness(population=population, X=X, y=y)\n",
        "      if np.max(fitness_values) > mf_g:\n",
        "        mf_g = np.max(fitness_values)\n",
        "        best_chromo_g = population[np.argmax(fitness_values)]\n",
        "\n",
        "      print(\"Max fitness of generation\", gen, \": \", mf_g)\n",
        "      if mf_g > mf:\n",
        "        mf = mf_g\n",
        "        best_chromo = best_chromo_g\n",
        "        mf_g = -1\n",
        "      else:\n",
        "        break\n",
        "\n",
        "    return best_chromo, mf"
      ]
    },
    {
      "cell_type": "code",
      "execution_count": null,
      "metadata": {
        "id": "xbNsZc919oNt",
        "colab": {
          "base_uri": "https://localhost:8080/"
        },
        "outputId": "975cc795-ceac-4187-ea95-50d99503ddba"
      },
      "outputs": [
        {
          "output_type": "stream",
          "name": "stdout",
          "text": [
            "Max fitness of generation 0 :  0.9027655329615974\n",
            "Max fitness of generation 1 :  0.904130017402377\n",
            "Max fitness of generation 2 :  0.9065791076620792\n",
            "Max fitness of generation 3 :  0.9012291284084405\n",
            "Best feature:  ['stddev', 'AR_P_Proto_P_SrcIP', 'srate', 'drate', 'min', 'state', 'mean', 'Pkts_P_State_P_Protocol_P_SrcIP', 'N_IN_Conn_P_DstIP', 'flgs']\n",
            "Max fitness:  0.9065791076620792\n"
          ]
        }
      ],
      "source": [
        "best_chromo, max_fitness = generations(X=X, y=y, pop_size=100, chromo_len=10,\n",
        "                                       crossover_rate = 0.5, mutation_rate = 0.5)\n",
        "print(\"Best feature: \", list(X.columns[best_chromo]))\n",
        "print(\"Max fitness: \", max_fitness)"
      ]
    },
    {
      "cell_type": "markdown",
      "metadata": {
        "id": "g_scv7A49oNt"
      },
      "source": [
        "Feature Selection\n",
        "\n",
        "\n",
        "---\n",
        "\n"
      ]
    },
    {
      "cell_type": "code",
      "execution_count": null,
      "metadata": {
        "id": "okgTQq_MQt6D"
      },
      "outputs": [],
      "source": [
        "# Save best chromo\n",
        "np.save('BOT_IOT_005_best_chromo.npy', best_chromo)"
      ]
    },
    {
      "cell_type": "code",
      "execution_count": null,
      "metadata": {
        "id": "5JLvCVbfY_8J"
      },
      "outputs": [],
      "source": [
        "while True: pass"
      ]
    }
  ],
  "metadata": {
    "colab": {
      "provenance": []
    },
    "kernelspec": {
      "display_name": "Python 3",
      "name": "python3"
    },
    "language_info": {
      "name": "python"
    }
  },
  "nbformat": 4,
  "nbformat_minor": 0
}